{
 "cells": [
  {
   "cell_type": "markdown",
   "metadata": {},
   "source": [
    "# Структуровані масиви даних"
   ]
  },
  {
   "cell_type": "code",
   "execution_count": 1,
   "metadata": {},
   "outputs": [],
   "source": [
    "def homework(message):\n",
    "    print(\"\\n>>>>>\", message, \"\\n\")\n",
    "import numpy as np"
   ]
  },
  {
   "cell_type": "markdown",
   "metadata": {},
   "source": [
    "# Визначення однорідного масиву"
   ]
  },
  {
   "cell_type": "code",
   "execution_count": 2,
   "metadata": {},
   "outputs": [
    {
     "name": "stdout",
     "output_type": "stream",
     "text": [
      "Отриманий масив A має вигляд:\n",
      "array([[ 3,  8,  9],\n",
      "       [ 1, -7,  0],\n",
      "       [ 4, 12,  4]], dtype=int8)\n",
      "Отриманий масив B має вигляд:\n",
      "array([[ 3.4,  8.7,  9.9],\n",
      "       [ 1.1, -7.8, -0.7],\n",
      "       [ 4.1, 12.3,  4.8]], dtype=float16)\n",
      "Функція repr() повертає строкове представлення об'єкта, яке програміст може використати для відновлення цього об'єкта.\n",
      "Масив A має тип int8, через що дробова частина чисел була втрачена. Масив B має тип float16, що дозволяє зберігати дробові числа, хоча точність обмежена.\n"
     ]
    }
   ],
   "source": [
    "import numpy as np\n",
    "\n",
    "lst = [ [3.4, 8.7, 9.9], \n",
    "        [1.1, -7.8, -0.7],\n",
    "        [4.1, 12.3, 4.8] ]\n",
    "\n",
    "A = np.array(lst, dtype=np.int8)\n",
    "print(f\"Отриманий масив A має вигляд:\\n{repr(A)}\")\n",
    "# Масив A створено з типом даних int8, тому всі дробові числа були округлені до цілих.\n",
    "\n",
    "B = np.array(lst, dtype=np.float16)\n",
    "print(f\"Отриманий масив B має вигляд:\\n{repr(B)}\")\n",
    "# Масив B створено з типом даних float16, тому збережено дробову частину чисел із обмеженою точністю.\n",
    "\n",
    "print(\"Функція repr() повертає строкове представлення об'єкта, яке програміст може використати для відновлення цього об'єкта.\")\n",
    "\n",
    "print(\"Масив A має тип int8, через що дробова частина чисел була втрачена. Масив B має тип float16, що дозволяє зберігати дробові числа, хоча точність обмежена.\")\n",
    "\n"
   ]
  },
  {
   "cell_type": "markdown",
   "metadata": {},
   "source": [
    "# Задаємо свій тип даних\n",
    "> можливо створити свій набір даних задавши назву та типи полів. Кожне поле повинне бути заданим як tuple який містить імя та тип (числовий, символьний, тд.)."
   ]
  },
  {
   "cell_type": "code",
   "execution_count": 3,
   "metadata": {},
   "outputs": [
    {
     "name": "stdout",
     "output_type": "stream",
     "text": [
      "Отриманий масив: [('Bohdan', 4) ('Marta', 5) ('Noname', 0)]\n",
      "Доступитись до певної колонки тепер можна за її іменем: [4 5 0]\n",
      "Всі імена можна отримати, звернувшись до поля 'name':\n",
      "['Bohdan' 'Marta' 'Noname']\n"
     ]
    }
   ],
   "source": [
    "import numpy as np\n",
    "\n",
    "# Визначення dtype з використанням стандартного типу str\n",
    "dt = np.dtype([('name', 'U20'), ('mark', np.int8)])\n",
    "arr = [\n",
    "    (\"Bohdan\", 4), \n",
    "    (\"Marta\", 5),\n",
    "    (\"Noname\", 0)\n",
    "]\n",
    "C = np.array(arr, dtype=dt)\n",
    "print(\"Отриманий масив:\", C)\n",
    "# Масив C створений як структурований масив, де кожен елемент має два поля: 'name' та 'mark'.\n",
    "\n",
    "print(f\"Доступитись до певної колонки тепер можна за її іменем: {C['mark']}\")\n",
    "# Наприклад, доступ до поля 'mark' повертає всі оцінки.\n",
    "\n",
    "print(\"Всі імена можна отримати, звернувшись до поля 'name':\")\n",
    "print(C['name'])"
   ]
  },
  {
   "cell_type": "markdown",
   "metadata": {},
   "source": [
    "# Запис та зчитування з файлу, формат CSV\n",
    "> `savez` та `load` найпростіші функції для збереження даних NPZ формат;\n",
    "> CSV - формат, де значення відділені комою. Деколи цей формат дуже подібний до комірок Excel;\n",
    "> `savetxt` - метод дозволяє збуурегти масив у файл; \n",
    "> `genfromtxt` - метод вичитує дані з файлі;"
   ]
  },
  {
   "cell_type": "code",
   "execution_count": 4,
   "metadata": {},
   "outputs": [
    {
     "name": "stdout",
     "output_type": "stream",
     "text": [
      "Отриманий масив: [('Bohdan', 4) ('Marta', 5) ('Noname', 0)]\n",
      "Доступитись до певної колонки тепер можна за її іменем: [4 5 0]\n",
      "Всі імена можна отримати, звернувшись до поля 'name':\n",
      "['Bohdan' 'Marta' 'Noname']\n"
     ]
    }
   ],
   "source": [
    "import numpy as np\n",
    "import os\n",
    "\n",
    "# Визначення dtype з використанням 'U20' для рядків\n",
    "dt = np.dtype([('name', 'U20'), ('mark', np.int8)])\n",
    "\n",
    "# Створення масиву\n",
    "arr = [\n",
    "    (\"Bohdan\", 4),\n",
    "    (\"Marta\", 5),\n",
    "    (\"Noname\", 0)\n",
    "]\n",
    "C = np.array(arr, dtype=dt)\n",
    "print(\"Отриманий масив:\", C)\n",
    "# Масив C створений як структурований масив, де кожен елемент має два поля: 'name' та 'mark'.\n",
    "\n",
    "print(f\"Доступитись до певної колонки тепер можна за її іменем: {C['mark']}\")\n",
    "# Наприклад, доступ до поля 'mark' повертає всі оцінки.\n",
    "\n",
    "print(\"Всі імена можна отримати, звернувшись до поля 'name':\")\n",
    "print(C['name'])"
   ]
  }
 ],
 "metadata": {
  "kernelspec": {
   "display_name": "Python 3",
   "language": "python",
   "name": "python3"
  },
  "language_info": {
   "codemirror_mode": {
    "name": "ipython",
    "version": 3
   },
   "file_extension": ".py",
   "mimetype": "text/x-python",
   "name": "python",
   "nbconvert_exporter": "python",
   "pygments_lexer": "ipython3",
   "version": "3.12.6"
  },
  "orig_nbformat": 4,
  "vscode": {
   "interpreter": {
    "hash": "aee8b7b246df8f9039afb4144a1f6fd8d2ca17a180786b69acc140d282b71a49"
   }
  }
 },
 "nbformat": 4,
 "nbformat_minor": 2
}
