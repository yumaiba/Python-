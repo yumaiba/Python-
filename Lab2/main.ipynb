{
 "cells": [
  {
   "cell_type": "markdown",
   "metadata": {},
   "source": [
    "# Код для завдання\n",
    "\n",
    "1. **Основні типи даних**:\n"
   ]
  },
  {
   "cell_type": "code",
   "execution_count": 1,
   "metadata": {},
   "outputs": [
    {
     "name": "stdout",
     "output_type": "stream",
     "text": [
      "Змінна a: змінна з текстом\n",
      "Змінна b: 1\n",
      "Змінна b1: 1.5\n",
      "Список c: ['a', 1, 1.5, 'Слово', 'змінна з текстом']\n",
      "Словник d: {'a': 'Слово', 'b': 1, 'змінна з текстом': 1}\n",
      "Кортеж e: ('a', 'змінна з текстом')\n",
      "Набір f: {'ss', 'змінна з текстом1'}\n"
     ]
    }
   ],
   "source": [
    "# Створення змінних з різними типами даних\n",
    "a = \"змінна з текстом\"\n",
    "b = 1  # числова змінна\n",
    "b1 = 1.5  # числова змінна з плаваючою точкою\n",
    "c = [\"a\", 1, 1.5, \"Слово\", a]  # List\n",
    "d = {\"a\": \"Слово\", \"b\": 1, a: b}  # Dict\n",
    "e = (\"a\", a)  # Tuple\n",
    "f = {\"ss\", a + str(b)}  # Set\n",
    "\n",
    "# Вивід кожної змінної для перевірки\n",
    "print(\"Змінна a:\", a)\n",
    "print(\"Змінна b:\", b)\n",
    "print(\"Змінна b1:\", b1)\n",
    "print(\"Список c:\", c)\n",
    "print(\"Словник d:\", d)\n",
    "print(\"Кортеж e:\", e)\n",
    "print(\"Набір f:\", f)"
   ]
  },
  {
   "cell_type": "markdown",
   "metadata": {},
   "source": [
    "2. **Вбудовані константи та функції**:"
   ]
  },
  {
   "cell_type": "code",
   "execution_count": 2,
   "metadata": {},
   "outputs": [
    {
     "name": "stdout",
     "output_type": "stream",
     "text": [
      "Перша константа: True\n",
      "Друга константа: None\n",
      "Абсолютне значення -20.5: 20.5\n",
      "Максимальне число з [1, 5, 6, 9]: 9\n",
      "Результат округлення 9.56: 10\n"
     ]
    }
   ],
   "source": [
    "# Вбудовані константи\n",
    "print(\"Перша константа:\", True)\n",
    "print(f\"Друга константа: {None}\")\n",
    "\n",
    "# Вбудовані функції\n",
    "print(\"Абсолютне значення -20.5:\", abs(-20.5))\n",
    "print(\"Максимальне число з [1, 5, 6, 9]:\", max([1, 5, 6, 9]))\n",
    "print(\"Результат округлення 9.56:\", round(9.56))\n"
   ]
  },
  {
   "cell_type": "markdown",
   "metadata": {},
   "source": [
    "\n",
    "3. **Цикли**:\n",
    " "
   ]
  },
  {
   "cell_type": "code",
   "execution_count": 3,
   "metadata": {},
   "outputs": [
    {
     "name": "stdout",
     "output_type": "stream",
     "text": [
      "На позиції 0 знаходиться буква a\n",
      "На позиції 1 знаходиться буква b\n",
      "На позиції 2 знаходиться буква c\n",
      "Лічильник зараз: 0\n",
      "Лічильник зараз: 1\n",
      "Лічильник зараз: 2\n"
     ]
    }
   ],
   "source": [
    "letters = [\"a\", \"b\", \"c\"]\n",
    "# Цикл for із використанням range\n",
    "for i in range(len(letters)):\n",
    "    print(f\"На позиції {i} знаходиться буква {letters[i]}\")\n",
    "\n",
    "# Цикл while\n",
    "count = 0\n",
    "while count < 3:\n",
    "    print(\"Лічильник зараз:\", count)\n",
    "    count += 1\n"
   ]
  },
  {
   "cell_type": "markdown",
   "metadata": {},
   "source": [
    "\n",
    "4. **Розгалуження**:\n"
   ]
  },
  {
   "cell_type": "code",
   "execution_count": 4,
   "metadata": {},
   "outputs": [
    {
     "name": "stdout",
     "output_type": "stream",
     "text": [
      "Значить A=True\n",
      "B додатнє\n"
     ]
    }
   ],
   "source": [
    "A = True\n",
    "print(\"Значить A=True\" if A else \"Значить A=False\")\n",
    "\n",
    "B = 5\n",
    "if B > 0:\n",
    "    print(\"B додатнє\")\n",
    "elif B < 0:\n",
    "    print(\"B від'ємне\")\n",
    "else:\n",
    "    print(\"B дорівнює нулю\")"
   ]
  },
  {
   "cell_type": "markdown",
   "metadata": {},
   "source": [
    "\n",
    "5. **Конструкція try-except-finally**:\n",
    "  \n"
   ]
  },
  {
   "cell_type": "code",
   "execution_count": 5,
   "metadata": {},
   "outputs": [
    {
     "name": "stdout",
     "output_type": "stream",
     "text": [
      "Помилка: division by zero\n",
      "А от воно що!\n"
     ]
    }
   ],
   "source": [
    "A = 0\n",
    "try:\n",
    "    print(\"Що буде якщо\", 10 / A, \"?\")\n",
    "except ZeroDivisionError as e:\n",
    "    print(\"Помилка:\", e)\n",
    "finally:\n",
    "    print(\"А от воно що!\")\n"
   ]
  },
  {
   "cell_type": "markdown",
   "metadata": {},
   "source": [
    "\n",
    "6. **Контекст-менеджер with**:"
   ]
  },
  {
   "cell_type": "code",
   "execution_count": 6,
   "metadata": {},
   "outputs": [
    {
     "name": "stdout",
     "output_type": "stream",
     "text": [
      "# Р—РІС–С‚ РґРѕ Р»Р°Р±РѕСЂР°С‚РѕСЂРЅРѕС— СЂРѕР±РѕС‚Рё в„– 2\n",
      "## РўРµРјР°: РћСЃРЅРѕРІРё РїСЂРѕРіСЂР°РјСѓРІР°РЅРЅСЏ РЅР° Python\n",
      "### РњРµС‚Р° СЂРѕР±РѕС‚Рё: РћР·РЅР°Р№РѕРјРёС‚РёСЃСЏ Р· РѕСЃРЅРѕРІРЅРёРјРё РєРѕРЅСЃС‚СЂСѓРєС†С–СЏРјРё С‚Р° РјРѕР¶Р»РёРІРѕСЃС‚СЏРјРё Python.\n",
      "\n",
      "---\n",
      "\n",
      "## Р’РёРєРѕРЅР°РЅРЅСЏ СЂРѕР±РѕС‚Рё\n",
      "\n",
      "* ### Р РµР·СѓР»СЊС‚Р°С‚Рё РІРёРєРѕРЅР°РЅРЅСЏ Р·Р°РІРґР°РЅСЊ:\n",
      "1. РЎС‚РІРѕСЂРёРІ С„Р°Р№Р» С–Р· [Р±Р°Р·РѕРІРёРјРё РїСЂРёРєР»Р°РґР°РјРё Python-РєРѕРґСѓ](./main.ipynb) РґР»СЏ РѕР·РЅР°Р№РѕРјР»РµРЅРЅСЏ Р· С‚РёРїР°РјРё РґР°РЅРёС… С‚Р° РѕСЃРЅРѕРІРЅРёРјРё РєРѕРЅСЃС‚СЂСѓРєС†С–СЏРјРё;\n",
      "1. РџРѕРїСЂР°С†СЋРІР°РІ С–Р· Python-С†РёРєР»Р°РјРё, С‚Р°РєРёРјРё СЏРє `for`, `while`;\n",
      "1. РќР°РІС‡РёРІСЃСЏ РІРёРєРѕСЂРёСЃС‚РѕРІСѓРІР°С‚Рё Python-РєРѕРЅСЃС‚СЂСѓРєС†С–С— `if`, `try-except`;\n",
      "1. Р’РёРєРѕСЂРёСЃС‚Р°РІ Python-РјРµРЅРµРґР¶РµСЂ `with` РґР»СЏ СЂРѕР±РѕС‚Рё Р· С„Р°Р№Р»Р°РјРё;\n",
      "1. РЎС‚РІРѕСЂРёРІ Python-Lambda-С„СѓРЅРєС†С–СЋ. Р РµР·СѓР»СЊС‚Р°С‚ РЅР° СЃРєСЂС–РЅС–:\n",
      "![alt text](image-1.png)\n",
      "\n",
      "---\n",
      "\n",
      "## Р’РёСЃРЅРѕРІРѕРє:\n",
      "\n",
      "- РћС‚Р¶Рµ, Сѓ С†С–Р№ СЂРѕР±РѕС‚С– Р±СѓР»Рё РІРёРєРѕРЅР°РЅС– Р±Р°Р·РѕРІС– РІРїСЂР°РІРё РґР»СЏ РѕР·РЅР°Р№РѕРјР»РµРЅРЅСЏ Р· РєРѕРЅСЃС‚СЂСѓРєС†С–СЏРјРё РјРѕРІРё Python.\n",
      "- Р”РѕСЃСЏРіРЅСѓРІ РјРµС‚Сѓ СЂРѕР±РѕС‚Рё: РѕР·РЅР°Р№РѕРјРёС‚РёСЃСЏ Р· РѕСЃРЅРѕРІР°РјРё Python С‚Р° РѕС‚СЂРёРјР°С‚Рё РїСЂР°РєС‚РёС‡РЅРёР№ РґРѕСЃРІС–Рґ СЂРѕР±РѕС‚Рё Р· Р±Р°Р·РѕРІРёРјРё С‚РёРїР°РјРё РґР°РЅРёС…, С†РёРєР»Р°РјРё, СЂРѕР·РіР°Р»СѓР¶РµРЅРЅСЏРјРё, РѕР±СЂРѕР±РєРѕСЋ РїРѕРјРёР»РѕРє С‚Р° РєРѕРЅС‚РµРєСЃС‚-РјРµРЅРµРґР¶РµСЂР°РјРё.\n",
      "- РћС‚СЂРёРјР°РЅРѕ Р±Р°РіР°С‚Рѕ РЅРѕРІРёС… Р·РЅР°РЅСЊ. РџСЂР°С†СЋРІР°С‚Рё Р±СѓР»Рѕ С†С–РєР°РІРѕ.\n",
      "\n",
      "---\n"
     ]
    }
   ],
   "source": [
    "with open(\"README.md\", \"r\") as f:\n",
    "    for line in f:\n",
    "        print(line.strip())\n"
   ]
  },
  {
   "cell_type": "markdown",
   "metadata": {},
   "source": [
    "\n",
    "7. **Lambda-функція**:\n"
   ]
  },
  {
   "cell_type": "code",
   "execution_count": 7,
   "metadata": {},
   "outputs": [
    {
     "name": "stdout",
     "output_type": "stream",
     "text": [
      "Це Lambda-функція: <function <lambda> at 0x0000023E9B893100>\n",
      "Це її виклик: Привіт від: Майби Юрія!\n"
     ]
    }
   ],
   "source": [
    "# Lambda-функція для створення привітання\n",
    "greeting_lambda = lambda first, last: f'Привіт від: {first} {last}!'\n",
    "print(\"Це Lambda-функція:\", greeting_lambda)\n",
    "print(\"Це її виклик:\", greeting_lambda('Майби', 'Юрія'))\n"
   ]
  }
 ],
 "metadata": {
  "kernelspec": {
   "display_name": "Python 3",
   "language": "python",
   "name": "python3"
  },
  "language_info": {
   "codemirror_mode": {
    "name": "ipython",
    "version": 3
   },
   "file_extension": ".py",
   "mimetype": "text/x-python",
   "name": "python",
   "nbconvert_exporter": "python",
   "pygments_lexer": "ipython3",
   "version": "3.12.6"
  }
 },
 "nbformat": 4,
 "nbformat_minor": 2
}
